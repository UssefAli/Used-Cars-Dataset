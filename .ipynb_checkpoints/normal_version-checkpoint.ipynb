{
  "nbformat": 4,
  "nbformat_minor": 0,
  "metadata": {
    "colab": {
      "provenance": []
    },
    "kernelspec": {
      "name": "ir",
      "display_name": "R"
    },
    "language_info": {
      "name": "R"
    }
  },
  "cells": [
    {
      "cell_type": "code",
      "source": [
        "# install.packages(\"caret\")\n",
        "# install.packages(\"e1071\")\n",
        "# install.packages(\"randomForest\")\n",
        "# install.packages(\"cluster\")\n",
        "# install.packages(\"dplyr\")\n",
        "# install.packages(\"nnet\")\n",
        "# install.packages(\"rpart\")\n",
        "# install.packages(\"Metrics\")\n",
        "# install.packages(\"recipes\")"
      ],
      "metadata": {
        "id": "VlcztX6QOLfj"
      },
      "execution_count": 381,
      "outputs": []
    },
    {
      "cell_type": "markdown",
      "source": [
        "Explore the data"
      ],
      "metadata": {
        "id": "Smt3jPhGYnth"
      }
    },
    {
      "cell_type": "code",
      "source": [
        "# Load necessary libraries\n",
        "library(dplyr)\n",
        "library(cluster)\n",
        "library(caret)\n",
        "library(randomForest)\n",
        "library(e1071)\n",
        "library(nnet)\n",
        "library(rpart)\n",
        "library(Metrics)\n",
        "library(recipes)\n",
        "# Load the dataset\n",
        "file_path <- \"/content/used_car_dataset.csv\"\n",
        "data <- read.csv(file_path, stringsAsFactors = FALSE)\n",
        "\n",
        "summary(data)\n",
        "print(data[1:5 , ])"
      ],
      "metadata": {
        "colab": {
          "base_uri": "https://localhost:8080/",
          "height": 590
        },
        "id": "NedLjELMw69R",
        "outputId": "cd941917-9c53-4179-e8b9-2ce3b9231204"
      },
      "execution_count": 382,
      "outputs": [
        {
          "output_type": "display_data",
          "data": {
            "text/plain": [
              "    Brand              model                Year           Age        \n",
              " Length:9582        Length:9582        Min.   :1986   Min.   : 0.000  \n",
              " Class :character   Class :character   1st Qu.:2014   1st Qu.: 5.000  \n",
              " Mode  :character   Mode  :character   Median :2017   Median : 7.000  \n",
              "                                       Mean   :2016   Mean   : 7.639  \n",
              "                                       3rd Qu.:2019   3rd Qu.:10.000  \n",
              "                                       Max.   :2024   Max.   :38.000  \n",
              "   kmDriven         Transmission          Owner             FuelType        \n",
              " Length:9582        Length:9582        Length:9582        Length:9582       \n",
              " Class :character   Class :character   Class :character   Class :character  \n",
              " Mode  :character   Mode  :character   Mode  :character   Mode  :character  \n",
              "                                                                            \n",
              "                                                                            \n",
              "                                                                            \n",
              "  PostedDate        AdditionInfo         AskPrice        \n",
              " Length:9582        Length:9582        Length:9582       \n",
              " Class :character   Class :character   Class :character  \n",
              " Mode  :character   Mode  :character   Mode  :character  \n",
              "                                                         \n",
              "                                                         \n",
              "                                                         "
            ]
          },
          "metadata": {}
        },
        {
          "output_type": "stream",
          "name": "stdout",
          "text": [
            "          Brand     model Year Age    kmDriven Transmission  Owner FuelType\n",
            "1         Honda      City 2001  23   98,000 km       Manual second   Petrol\n",
            "2        Toyota    Innova 2009  15 190000.0 km       Manual second   Diesel\n",
            "3    Volkswagen VentoTest 2010  14   77,246 km       Manual  first   Diesel\n",
            "4 Maruti Suzuki     Swift 2017   7   83,500 km       Manual second   Diesel\n",
            "5 Maruti Suzuki    Baleno 2019   5   45,000 km    Automatic  first   Petrol\n",
            "  PostedDate                                            AdditionInfo   AskPrice\n",
            "1     Nov-24 Honda City v teck in mint condition, valid genuine car, ₹ 1,95,000\n",
            "2     Jul-24     Toyota Innova 2.5 G (Diesel) 7 Seater, 2009, Diesel ₹ 3,75,000\n",
            "3     Nov-24  Volkswagen Vento 2010-2013 Diesel Breeze, 2010, Diesel ₹ 1,84,999\n",
            "4     Nov-24          Maruti Suzuki Swift 2017 Diesel Good Condition ₹ 5,65,000\n",
            "5     Nov-24            Maruti Suzuki Baleno Alpha CVT, 2019, Petrol ₹ 6,85,000\n"
          ]
        }
      ]
    },
    {
      "cell_type": "code",
      "source": [
        "data$AskPrice <- as.numeric(gsub(\"₹ |,\", \"\", data$AskPrice))\n",
        "data$kmDriven <- as.numeric(gsub(\" km|,\", \"\", data$kmDriven))\n",
        "\n",
        "# remove dublicates\n",
        "data <- distinct(data)\n",
        "\n",
        "# check prcentage of missing values\n",
        "print(sum(is.na(data)) / nrow(data) ) # 0.05 %\n",
        "\n",
        "data <- na.omit(data)\n",
        "\n",
        "\n",
        "summary(data)"
      ],
      "metadata": {
        "colab": {
          "base_uri": "https://localhost:8080/",
          "height": 399
        },
        "id": "JeGlKqHY10GG",
        "outputId": "cba44f88-f120-4946-95b0-7c57a0009a33"
      },
      "execution_count": 383,
      "outputs": [
        {
          "output_type": "stream",
          "name": "stdout",
          "text": [
            "[1] 0.005197153\n"
          ]
        },
        {
          "output_type": "display_data",
          "data": {
            "text/plain": [
              "    Brand              model                Year           Age        \n",
              " Length:8805        Length:8805        Min.   :1986   Min.   : 0.000  \n",
              " Class :character   Class :character   1st Qu.:2014   1st Qu.: 5.000  \n",
              " Mode  :character   Mode  :character   Median :2017   Median : 7.000  \n",
              "                                       Mean   :2016   Mean   : 7.607  \n",
              "                                       3rd Qu.:2019   3rd Qu.:10.000  \n",
              "                                       Max.   :2024   Max.   :38.000  \n",
              "    kmDriven      Transmission          Owner             FuelType        \n",
              " Min.   :     0   Length:8805        Length:8805        Length:8805       \n",
              " 1st Qu.: 43000   Class :character   Class :character   Class :character  \n",
              " Median : 65110   Mode  :character   Mode  :character   Mode  :character  \n",
              " Mean   : 71010                                                           \n",
              " 3rd Qu.: 86000                                                           \n",
              " Max.   :980002                                                           \n",
              "  PostedDate        AdditionInfo          AskPrice       \n",
              " Length:8805        Length:8805        Min.   :   15000  \n",
              " Class :character   Class :character   1st Qu.:  355000  \n",
              " Mode  :character   Mode  :character   Median :  590000  \n",
              "                                       Mean   : 1042270  \n",
              "                                       3rd Qu.: 1075000  \n",
              "                                       Max.   :42500000  "
            ]
          },
          "metadata": {}
        }
      ]
    },
    {
      "cell_type": "code",
      "source": [
        "# convert ruby to USD\n",
        "data$AskPrice <- data$AskPrice * 0.012\n",
        "\n",
        "# insure the inconcistenity\n",
        "data$Age = 2024 - data$Year\n"
      ],
      "metadata": {
        "id": "kiDx2uqW3Mt2"
      },
      "execution_count": 384,
      "outputs": []
    },
    {
      "cell_type": "markdown",
      "source": [
        "**Classification**"
      ],
      "metadata": {
        "id": "YfD0mnH3Y3c0"
      }
    },
    {
      "cell_type": "code",
      "source": [
        "# Create kmperage column\n",
        "data$kmperage <- data$kmDriven / data$Age\n",
        "data$kmperage[data$Age == 0] <- data$kmDriven[data$Age == 0]\n"
      ],
      "metadata": {
        "id": "H9HmWtuoAwUt"
      },
      "execution_count": 385,
      "outputs": []
    },
    {
      "cell_type": "code",
      "source": [
        "boxplot(data$AskPrice , main = \"Price\")\n",
        "boxplot(data$kmDriven , main = \"km Driven\")\n",
        "boxplot(data$Age , main = \"Age\")\n",
        "boxplot(data$kmperage , main = \"km per age\")"
      ],
      "metadata": {
        "colab": {
          "base_uri": "https://localhost:8080/",
          "height": 1000
        },
        "id": "k_E28NRF7rhF",
        "outputId": "36f1d660-2e9d-480e-f0fd-86c7f693384e"
      },
      "execution_count": 386,
      "outputs": [
        {
          "output_type": "display_data",
          "data": {
            "text/plain": [
              "Plot with title “Price”"
            ],
            "image/png": "[encoded data removed]"
          },
          "metadata": {
            "image/png": {
              "width": 420,
              "height": 420
            }
          }
        },
        {
          "output_type": "display_data",
          "data": {
            "text/plain": [
              "Plot with title “km Driven”"
            ],
            "image/png": "[encoded data removed]"
          },
          "metadata": {
            "image/png": {
              "width": 420,
              "height": 420
            }
          }
        },
        {
          "output_type": "display_data",
          "data": {
            "text/plain": [
              "Plot with title “Age”"
            ],
            "image/png": "[encoded data removed]"
          },
          "metadata": {
            "image/png": {
              "width": 420,
              "height": 420
            }
          }
        },
        {
          "output_type": "display_data",
          "data": {
            "text/plain": [
              "Plot with title “km per age”"
            ],
            "image/png": "[encoded data removed]"
          },
          "metadata": {
            "image/png": {
              "width": 420,
              "height": 420
            }
          }
        }
      ]
    },
    {
      "cell_type": "code",
      "source": [
        "data_subset <- data %>% select(AskPrice, kmperage, kmDriven, Age)\n",
        "corr_matrix <- cor(data_subset, use = \"complete.obs\")\n",
        "\n",
        "print(corr_matrix[\"AskPrice\", ])"
      ],
      "metadata": {
        "colab": {
          "base_uri": "https://localhost:8080/"
        },
        "id": "hsyasjQWVcQH",
        "outputId": "31a4be87-d11a-4d6f-8bc5-f2125e9d2ed5"
      },
      "execution_count": 387,
      "outputs": [
        {
          "output_type": "stream",
          "name": "stdout",
          "text": [
            "   AskPrice    kmperage    kmDriven         Age \n",
            " 1.00000000  0.04521191 -0.13799067 -0.30713591 \n"
          ]
        }
      ]
    },
    {
      "cell_type": "code",
      "source": [
        "quantiles_price <- quantile(data$AskPrice, probs = c(0.25,0.5 ,0.75))\n",
        "iqr_price <- IQR(data$AskPrice)\n",
        "upper_price <- quantiles_price[3] + 1.5 * iqr_price\n",
        "data$AskPrice[data$AskPrice > upper_price] <- upper_price\n",
        "\n",
        "quantiles_age <- quantile(data$Age, probs = c(0.25, 0.5 ,0.75))\n",
        "iqr_age <- IQR(data$Age)\n",
        "upper_age <- quantiles_age[2] + 1.5 * iqr_age\n",
        "data$Age[data$Age > upper_age] <- upper_age\n",
        "\n",
        "quantiles_km <- quantile(data$kmDriven, probs = c(0.25, 0.5,0.75))\n",
        "iqr_km <- IQR(data$kmDriven)\n",
        "upper_km <- quantiles_km[3] + 1.5 * iqr_km\n",
        "data$kmDriven[data$kmDriven > upper_km] <- upper_km\n",
        "\n",
        "quantiles_per <- quantile(data$kmperage, probs = c(0.25, 0.75))\n",
        "iqr_per <- IQR(data$kmperage)\n",
        "upper_per <- quantiles_per[2] + 1.5 * iqr_per\n",
        "data$kmperage[data$kmperage > upper_per] <- upper_per"
      ],
      "metadata": {
        "id": "5GmzP1rt-Vg-"
      },
      "execution_count": 388,
      "outputs": []
    },
    {
      "cell_type": "code",
      "source": [
        "boxplot(data$AskPrice , main = \"Price\")\n",
        "boxplot(data$kmDriven , main = \"km Driven\")\n",
        "boxplot(data$Age , main = \"Age\")\n",
        "boxplot(data$kmperage , main = \"km per age\")"
      ],
      "metadata": {
        "colab": {
          "base_uri": "https://localhost:8080/",
          "height": 1000
        },
        "id": "FlndeDW5-dqV",
        "outputId": "7323d69e-aa6c-49c5-81e3-56290e981988"
      },
      "execution_count": 389,
      "outputs": [
        {
          "output_type": "display_data",
          "data": {
            "text/plain": [
              "Plot with title “Price”"
            ],
            "image/png": "[encoded data removed]"
          },
          "metadata": {
            "image/png": {
              "width": 420,
              "height": 420
            }
          }
        },
        {
          "output_type": "display_data",
          "data": {
            "text/plain": [
              "Plot with title “km Driven”"
            ],
            "image/png": "[encoded data removed]"
          },
          "metadata": {
            "image/png": {
              "width": 420,
              "height": 420
            }
          }
        },
        {
          "output_type": "display_data",
          "data": {
            "text/plain": [
              "Plot with title “Age”"
            ],
            "image/png": "[encoded data removed]"
          },
          "metadata": {
            "image/png": {
              "width": 420,
              "height": 420
            }
          }
        },
        {
          "output_type": "display_data",
          "data": {
            "text/plain": [
              "Plot with title “km per age”"
            ],
            "image/png": "[encoded data removed]"
          },
          "metadata": {
            "image/png": {
              "width": 420,
              "height": 420
            }
          }
        }
      ]
    },
    {
      "cell_type": "code",
      "source": [
        "data_subset <- data %>% select(AskPrice, kmperage, kmDriven, Age)\n",
        "corr_matrix <- cor(data_subset, use = \"complete.obs\")\n",
        "\n",
        "print(corr_matrix[\"AskPrice\", ])"
      ],
      "metadata": {
        "colab": {
          "base_uri": "https://localhost:8080/"
        },
        "id": "LcnBl02MVtgv",
        "outputId": "4ceedd4d-25fd-42a6-a68f-48e303b5a36e"
      },
      "execution_count": 390,
      "outputs": [
        {
          "output_type": "stream",
          "name": "stdout",
          "text": [
            "  AskPrice   kmperage   kmDriven        Age \n",
            " 1.0000000  0.2436635 -0.2128243 -0.4952032 \n"
          ]
        }
      ]
    },
    {
      "cell_type": "code",
      "source": [
        "bins <- c(0, mean(data$AskPrice), Inf)\n",
        "labels <- c(\"Low\", \"High\")\n",
        "data$price_cat <- cut(data$AskPrice, breaks = bins, labels = labels)\n",
        "\n",
        "classify_data <-  select(data , -c(Year, AdditionInfo ,  AskPrice, PostedDate ))\n",
        "classify_data <- mutate(classify_data,across(where(is.character), ~ as.numeric(as.factor(.)) - 1))\n",
        "classify_data <- mutate(classify_data, across(where(is.numeric), scale))\n",
        "\n",
        "set.seed(42)\n",
        "trainIndex <- createDataPartition(classify_data$Transmission, p = 0.8, list = FALSE)\n",
        "train_data <- classify_data[trainIndex, ]\n",
        "test_data <- classify_data[-trainIndex, ]\n",
        "\n",
        "# Separate features and target\n",
        "X_train <- train_data %>% select(-price_cat)\n",
        "y_train <- train_data$price_cat\n",
        "X_test <- test_data %>% select(-price_cat)\n",
        "y_test <- test_data$price_cat\n"
      ],
      "metadata": {
        "id": "uSMPDq8-CGU3"
      },
      "execution_count": 391,
      "outputs": []
    },
    {
      "cell_type": "code",
      "execution_count": 392,
      "metadata": {
        "id": "9KmQZT6m6LeA",
        "colab": {
          "base_uri": "https://localhost:8080/"
        },
        "outputId": "8e89b6c8-d63f-494c-8307-f680ca2da31a"
      },
      "outputs": [
        {
          "output_type": "stream",
          "name": "stdout",
          "text": [
            "[1] \"Random Forest Classifier Accuracy: 0.904031800113572\"\n"
          ]
        }
      ],
      "source": [
        "randomforest_model <- randomForest(x = X_train, y = y_train, ntree = 100, random_state = 42)\n",
        "randomforest_predictions <- predict(randomforest_model, X_test)\n",
        "randomforest_accuracy <- mean(randomforest_predictions == y_test)\n",
        "\n",
        "print(paste(\"Random Forest Classifier Accuracy:\", randomforest_accuracy))"
      ]
    },
    {
      "cell_type": "code",
      "source": [
        "decision_tree_model <- rpart(y_train ~ ., data = X_train, method = \"class\")\n",
        "decision_tree_predictions <- predict(decision_tree_model, X_test, type = \"class\")\n",
        "decision_tree_accuracy <- mean(decision_tree_predictions == y_test)\n",
        "\n",
        "print(paste(\"Decision Tree Accuracy:\", decision_tree_accuracy))"
      ],
      "metadata": {
        "colab": {
          "base_uri": "https://localhost:8080/"
        },
        "id": "nIvHA4GY-83F",
        "outputId": "6e453147-788c-438e-c485-5382fc9110b7"
      },
      "execution_count": 393,
      "outputs": [
        {
          "output_type": "stream",
          "name": "stdout",
          "text": [
            "[1] \"Decision Tree Accuracy: 0.829074389551391\"\n"
          ]
        }
      ]
    },
    {
      "cell_type": "code",
      "source": [
        "log_reg_model <- glm(y_train ~ ., data = X_train, family = binomial)\n",
        "predictions <- predict(log_reg_model, X_test, type = \"response\")\n",
        "pred_classes <- ifelse(predictions > 0.5, \"High\", \"Low\")\n",
        "log_reg_accuracy <- mean(pred_classes == y_test)\n",
        "print(paste(\"Logistic Regression Accuracy:\", log_reg_accuracy))"
      ],
      "metadata": {
        "colab": {
          "base_uri": "https://localhost:8080/"
        },
        "id": "jx_VQWHcVwAC",
        "outputId": "b077b74e-326f-443a-ea3f-e3e50e1b063d"
      },
      "execution_count": 394,
      "outputs": [
        {
          "output_type": "stream",
          "name": "stdout",
          "text": [
            "[1] \"Logistic Regression Accuracy: 0.797274275979557\"\n"
          ]
        }
      ]
    },
    {
      "cell_type": "code",
      "source": [
        "svm_model <- svm(y_train ~ ., data = X_train, kernel = \"radial\")\n",
        "svm_predictions <- predict(svm_model, X_test)\n",
        "svm_accuracy <- mean(svm_predictions == y_test)\n",
        "print(paste(\"SVM Accuracy:\",svm_accuracy))"
      ],
      "metadata": {
        "colab": {
          "base_uri": "https://localhost:8080/"
        },
        "id": "7Nouw8N-iOmZ",
        "outputId": "1941eaba-7651-47b4-b5aa-fbf4d443e6bb"
      },
      "execution_count": 395,
      "outputs": [
        {
          "output_type": "stream",
          "name": "stdout",
          "text": [
            "[1] \"SVM Accuracy: 0.842703009653606\"\n"
          ]
        }
      ]
    },
    {
      "cell_type": "code",
      "source": [
        "nn_model <- nnet(y_train ~ ., data = X_train, size = 5, decay = 0.01, maxit = 200)\n",
        "nn_predictions <- predict(nn_model, newdata = X_test, type = \"class\")\n",
        "nn_accuracy <- mean(nn_predictions == y_test)\n",
        "print(paste(\"Neural Network Accuracy:\", nn_accuracy))"
      ],
      "metadata": {
        "colab": {
          "base_uri": "https://localhost:8080/"
        },
        "id": "_TKoslJyEG7m",
        "outputId": "01ee714b-8254-4d65-a54c-42834ade66b5"
      },
      "execution_count": 396,
      "outputs": [
        {
          "output_type": "stream",
          "name": "stdout",
          "text": [
            "# weights:  51\n",
            "initial  value 4927.818545 \n",
            "iter  10 value 3098.063257\n",
            "iter  20 value 2713.811338\n",
            "iter  30 value 2534.141412\n",
            "iter  40 value 2439.262211\n",
            "iter  50 value 2397.733879\n",
            "iter  60 value 2368.862593\n",
            "iter  70 value 2352.265452\n",
            "iter  80 value 2348.895086\n",
            "iter  90 value 2348.600250\n",
            "iter 100 value 2348.480147\n",
            "iter 110 value 2348.468433\n",
            "iter 120 value 2348.422973\n",
            "iter 130 value 2348.224518\n",
            "iter 140 value 2348.193292\n",
            "iter 150 value 2348.189515\n",
            "final  value 2348.187341 \n",
            "converged\n",
            "[1] \"Neural Network Accuracy: 0.843838727995457\"\n"
          ]
        }
      ]
    },
    {
      "cell_type": "markdown",
      "source": [
        "**Regression**"
      ],
      "metadata": {
        "id": "5ihuHlsubWvk"
      }
    },
    {
      "cell_type": "code",
      "source": [
        "\n",
        "regression_data <-  select(data , -c(Year, AdditionInfo ,  price_cat , PostedDate))\n",
        "\n",
        "# preprocess <- recipe(AskPrice ~ ., data = regression_data) %>%\n",
        "#   step_dummy(all_nominal_predictors(), -all_outcomes())  # One-hot encode categorical variables\n",
        "#   # step_scale(all_numeric_predictors())      # Scale numeric variables\n",
        "\n",
        "# # Prepare the data\n",
        "# prep <- prep(preprocess, training = regression_data)\n",
        "# processed_data <- bake(prep, new_data = NULL)\n",
        "\n",
        "dummy <- dummyVars(\"~ .\", data = regression_data)\n",
        "processed_data <- data.frame(predict(dummy, newdata = regression_data))\n",
        "\n",
        "# Split data into training and test sets with stratification\n",
        "set.seed(42)\n",
        "\n",
        "trainIndex <- createDataPartition(regression_data$Brand, p = 0.8, list = FALSE)\n",
        "train_data <- processed_data[trainIndex, ]\n",
        "test_data <- processed_data[-trainIndex, ]\n",
        "\n",
        "X_train <- train_data %>% select(-AskPrice)\n",
        "y_train <- train_data$AskPrice\n",
        "X_test <- test_data %>% select(-AskPrice)\n",
        "y_test <- test_data$AskPrice\n",
        "\n",
        "print(ncol(processed_data))"
      ],
      "metadata": {
        "colab": {
          "base_uri": "https://localhost:8080/"
        },
        "id": "7MhMieLY6dNK",
        "outputId": "facf5a5b-dcad-4309-8612-be94dc9ced99"
      },
      "execution_count": 397,
      "outputs": [
        {
          "output_type": "stream",
          "name": "stderr",
          "text": [
            "Warning message in createDataPartition(regression_data$Brand, p = 0.8, list = FALSE):\n",
            "“Some classes have a single record ( Ashok, Aston Martin, Bentley, Maserati ) and these will be selected for the sample”\n"
          ]
        },
        {
          "output_type": "stream",
          "name": "stdout",
          "text": [
            "[1] 447\n"
          ]
        }
      ]
    },
    {
      "cell_type": "code",
      "source": [
        "linear_model <- lm(mpg ~ ., data = cbind(X_train, mpg = y_train))\n",
        "linear_predictions <- predict(linear_model, newdata = X_test)\n",
        "\n",
        "mae <- mae(y_test, linear_predictions)\n",
        "rmse <- rmse(y_test, linear_predictions)\n",
        "rss <- sum((y_test - linear_predictions)^2)\n",
        "tss <- sum((y_test - mean(y_test))^2)\n",
        "r2 <- 1 - (rss / tss)\n",
        "\n",
        "print(paste(\"MAE : \" , mae))\n",
        "print(paste(\"RMSE : \" , rmse))\n",
        "print(paste(\"R2 : \" , r2))"
      ],
      "metadata": {
        "colab": {
          "base_uri": "https://localhost:8080/"
        },
        "id": "ItMsuJEv6zFf",
        "outputId": "cfdcb489-b733-4373-da24-06da437b5fca"
      },
      "execution_count": 398,
      "outputs": [
        {
          "output_type": "stream",
          "name": "stderr",
          "text": [
            "Warning message in predict.lm(linear_model, newdata = X_test):\n",
            "“prediction from rank-deficient fit; attr(*, \"non-estim\") has doubtful cases”\n"
          ]
        },
        {
          "output_type": "stream",
          "name": "stdout",
          "text": [
            "[1] \"MAE :  1631.27905581527\"\n",
            "[1] \"RMSE :  2323.66307039889\"\n",
            "[1] \"R2 :  0.899920996945397\"\n"
          ]
        }
      ]
    },
    {
      "cell_type": "code",
      "source": [
        "randomforestR_model <- randomForest(x = X_train, y = y_train, ntree = 100, random_state = 42)\n",
        "randomforestR_predictions <- predict(randomforestR_model, newdata = X_test)\n",
        "\n",
        "mae <- mae(y_test, randomforestR_predictions)\n",
        "rmse <- rmse(y_test, randomforestR_predictions)\n",
        "rss <- sum((y_test - randomforestR_predictions)^2)\n",
        "tss <- sum((y_test - mean(y_test))^2)\n",
        "r2 <- 1 - (rss / tss)\n",
        "\n",
        "print(paste(\"MAE : \" , mae))\n",
        "print(paste(\"RMSE : \" , rmse))\n",
        "print(paste(\"R2 : \" , r2))"
      ],
      "metadata": {
        "colab": {
          "base_uri": "https://localhost:8080/"
        },
        "id": "nQI86IcH8Iur",
        "outputId": "615c20a3-b544-40c2-c928-e5bed55d82bd"
      },
      "execution_count": null,
      "outputs": [
        {
          "output_type": "stream",
          "name": "stdout",
          "text": [
            "[1] \"MAE :  1497.68720321957\"\n",
            "[1] \"RMSE :  2366.68187880701\"\n",
            "[1] \"R2 :  0.896181098415922\"\n"
          ]
        }
      ]
    }
  ]
}